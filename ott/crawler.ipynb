{
 "cells": [
  {
   "cell_type": "code",
   "execution_count": 1,
   "id": "77f9d2c6-065d-4c49-ae5b-161259e60490",
   "metadata": {},
   "outputs": [
    {
     "data": {
      "text/plain": [
       "['동백꽃필무렵',\n",
       " '에덴의동쪽',\n",
       " '밥잘사주는예쁜누나',\n",
       " '조선로코녹두전',\n",
       " '밀회',\n",
       " '부부클리닉사랑과전쟁',\n",
       " '터치',\n",
       " '처용2',\n",
       " '눈이부시게',\n",
       " '손THEGUEST',\n",
       " '검사내전',\n",
       " '의사요한',\n",
       " '검색어를입력하세요WWW',\n",
       " '빅이슈',\n",
       " '무사백동수',\n",
       " '겨울연가',\n",
       " '자이언트',\n",
       " '바람은불어도',\n",
       " '열혈사제',\n",
       " '태양의후예',\n",
       " '낭만닥터김사부',\n",
       " '농부사관학교2',\n",
       " '태조왕건',\n",
       " '주몽',\n",
       " '낭만닥터김사부2',\n",
       " '넝쿨째굴러온당신',\n",
       " '착하지않은여자들',\n",
       " '응답하라1988',\n",
       " '해를품은달',\n",
       " '싸이코패스다이어리',\n",
       " '사랑은뷰티풀인생은원더풀',\n",
       " '파랑새는있다',\n",
       " '루왁인간',\n",
       " '시크릿마더',\n",
       " '터널',\n",
       " '나쁜사랑',\n",
       " 'VIP',\n",
       " '마성의기쁨',\n",
       " '하나뿐인내편',\n",
       " '어비스',\n",
       " '응답하라1997',\n",
       " '주군의태양',\n",
       " '멜로가체질',\n",
       " '기름진멜로',\n",
       " '이번생은처음이라',\n",
       " '미리보는이태원클라쓰',\n",
       " '우아한모녀',\n",
       " '라이브',\n",
       " '김과장',\n",
       " '징비록',\n",
       " '블랙독',\n",
       " '이산',\n",
       " '애정의조건',\n",
       " '간택여인들의전쟁',\n",
       " '이태원클라쓰',\n",
       " '사랑의불시착',\n",
       " '초콜릿',\n",
       " '연애의발견',\n",
       " '대추나무사랑걸렸네',\n",
       " '식샤를합시다2',\n",
       " '맛좀보실래요',\n",
       " '부탁해요엄마',\n",
       " 'TV소설삼생이',\n",
       " '뷰티인사이드',\n",
       " '왓쳐',\n",
       " '태양인이제마',\n",
       " '그녀들의완벽한하루',\n",
       " '뻐꾸기둥지',\n",
       " '더게임0시를향하여',\n",
       " '별에서온그대',\n",
       " '싸우자귀신아',\n",
       " 'SKY캐슬',\n",
       " '야인시대',\n",
       " '머니게임',\n",
       " '인어아가씨',\n",
       " '상속자들',\n",
       " '해신',\n",
       " '학교2013',\n",
       " '운명과분노',\n",
       " '미생',\n",
       " '알함브라궁전의추억',\n",
       " '트랩',\n",
       " '검법남녀2',\n",
       " '첫사랑',\n",
       " '수상한삼형제',\n",
       " '황금빛내인생',\n",
       " '특수사건전담반TEN',\n",
       " '시그널',\n",
       " '모래시계',\n",
       " '장밋빛인생',\n",
       " '응답하라1994',\n",
       " '남자친구',\n",
       " '질투의화신',\n",
       " '두번은없다',\n",
       " '99억의여자',\n",
       " '제3의매력',\n",
       " '황후의품격',\n",
       " '아테나:전쟁의여신',\n",
       " '고백부부',\n",
       " '낭랑18세',\n",
       " '전원일기',\n",
       " '인수대비',\n",
       " '하자있는인간들',\n",
       " '세상에서가장아름다운이별',\n",
       " '꽃길만걸어요',\n",
       " '마녀의법정',\n",
       " '명불허전',\n",
       " '부부클리닉사랑과전쟁2',\n",
       " '광개토태왕',\n",
       " '굿닥터',\n",
       " '스토브리그']"
      ]
     },
     "execution_count": 1,
     "metadata": {},
     "output_type": "execute_result"
    }
   ],
   "source": [
    "import os\n",
    "import pandas as pd\n",
    "\n",
    "csv_list = os.listdir(path='./src')\n",
    "\n",
    "container = []\n",
    "for csv in csv_list:\n",
    "    df = pd.read_csv('./src/TN_K_DRAMA_CST_AUDERT_INFO_202001.csv')['PROGRM_NM']\n",
    "    container = container + df.tolist()\n",
    "    # print(csv)\n",
    "drama_list = list(set(container))\n",
    "drama_list"
   ]
  },
  {
   "cell_type": "code",
   "execution_count": 106,
   "id": "1353aa53-3a3f-4872-9a20-82feeb236431",
   "metadata": {
    "tags": []
   },
   "outputs": [],
   "source": [
    "from bs4 import BeautifulSoup\n",
    "from selenium import webdriver\n",
    "from selenium.webdriver.common.keys import Keys\n",
    "from selenium.webdriver.common.by import By\n",
    "from selenium.webdriver.common.action_chains import ActionChains\n",
    "import urllib.request as req\n",
    "import pandas as pd\n",
    "import time\n",
    "\n",
    "\n",
    "def actions(keyword):\n",
    "    input_blank = driver.find_element(By.CSS_SELECTOR, '#root > div > div.css-1xm32e0 > header.css-6k8tqb > nav > div > div > ul > li.css-1c3wwgb > div > div > form > label > input')\n",
    "    ActionChains(driver).move_to_element(input_blank).click().perform()\n",
    "    time.sleep(1)\n",
    "    ActionChains(driver).move_to_element(input_blank).click().send_keys(keyword, Keys.ENTER).perform()\n",
    "    time.sleep(5)\n",
    "    link_title = driver.find_element(By.CSS_SELECTOR, '#root > div > div.css-1xm32e0 > section > section > div.css-ipmqep-StyledTabContentContainer.e1szkzar3 > div.css-12hxjcc-StyledHideableBlock.e1pww8ij0 > section > section.css-1s4ow07 > div > div.css-awu20a > div > ul > li:nth-child(1) > a')\n",
    "    ActionChains(driver).move_to_element(link_title).click().perform()\n",
    "    time.sleep(5)\n",
    "    link_title = driver.find_element(By.CSS_SELECTOR, '#root > div > div.css-1xm32e0 > section > div > div.css-1ihluk0-Content.e1ezac431 > div > div > div > div:nth-child(1) > div.css-uvsgck > div > div > section:nth-child(5) > div:nth-child(1) > div > header > div > div > a')\n",
    "    ActionChains(driver).move_to_element(link_title).click().perform()\n",
    "\n",
    "    \n",
    "def scoll_bottom():\n",
    "    prev_height = driver.execute_script(\"return document.body.scrollHeight\")\n",
    "    while True:\n",
    "        driver.execute_script(\"window.scrollTo(0,document.body.scrollHeight)\")\n",
    "        time.sleep(2)\n",
    "        curr_height = driver.execute_script(\"return document.body.scrollHeight\")\n",
    "\n",
    "        if(curr_height == prev_height):\n",
    "            break\n",
    "        else:\n",
    "            prev_height = driver.execute_script(\"return document.body.scrollHeight\")\n",
    "\n",
    "            \n",
    "def get_review_container(driver):\n",
    "    soup = BeautifulSoup(driver.page_source, 'lxml')\n",
    "    review_box = soup.find_all(class_='css-bawlbm')\n",
    "\n",
    "    container = []\n",
    "    for r in review_box:\n",
    "        name = r.find(class_='css-1agoci2').text\n",
    "        try:\n",
    "            text = r.find(class_='css-1g78l7j').text\n",
    "        except:\n",
    "            print(f'error - {name}')\n",
    "            text = None\n",
    "        container.append([name, text])\n",
    "    return container"
   ]
  },
  {
   "cell_type": "code",
   "execution_count": 110,
   "id": "eb431edf-1e5c-429c-bd05-9a3aacb6ffac",
   "metadata": {},
   "outputs": [],
   "source": [
    "# set driver\n",
    "url = 'https://pedia.watcha.com/ko-KR'\n",
    "webdriver_dir = './chromedriver'\n",
    "driver = webdriver.Chrome(webdriver_dir)\n",
    "driver.get(url)\n"
   ]
  },
  {
   "cell_type": "code",
   "execution_count": 111,
   "id": "87f40b48-fbd8-4849-9ff6-b26055f400c4",
   "metadata": {},
   "outputs": [],
   "source": [
    "actions('응답하라1994')"
   ]
  },
  {
   "cell_type": "code",
   "execution_count": 109,
   "id": "46348b1b-2278-4cda-aa4b-4ad604edde5f",
   "metadata": {},
   "outputs": [
    {
     "ename": "KeyboardInterrupt",
     "evalue": "",
     "output_type": "error",
     "traceback": [
      "\u001b[0;31m---------------------------------------------------------------------------\u001b[0m",
      "\u001b[0;31mKeyboardInterrupt\u001b[0m                         Traceback (most recent call last)",
      "\u001b[0;32m/var/folders/m6/rzs8832x1hz443w0gx4rx1gh0000gn/T/ipykernel_17352/3581596274.py\u001b[0m in \u001b[0;36m<module>\u001b[0;34m\u001b[0m\n\u001b[0;32m----> 1\u001b[0;31m \u001b[0mscoll_bottom\u001b[0m\u001b[0;34m(\u001b[0m\u001b[0;34m)\u001b[0m\u001b[0;34m\u001b[0m\u001b[0;34m\u001b[0m\u001b[0m\n\u001b[0m",
      "\u001b[0;32m/var/folders/m6/rzs8832x1hz443w0gx4rx1gh0000gn/T/ipykernel_17352/1376235076.py\u001b[0m in \u001b[0;36mscoll_bottom\u001b[0;34m()\u001b[0m\n\u001b[1;32m      3\u001b[0m     \u001b[0;32mwhile\u001b[0m \u001b[0;32mTrue\u001b[0m\u001b[0;34m:\u001b[0m\u001b[0;34m\u001b[0m\u001b[0;34m\u001b[0m\u001b[0m\n\u001b[1;32m      4\u001b[0m         \u001b[0mdriver\u001b[0m\u001b[0;34m.\u001b[0m\u001b[0mexecute_script\u001b[0m\u001b[0;34m(\u001b[0m\u001b[0;34m\"window.scrollTo(0,document.body.scrollHeight)\"\u001b[0m\u001b[0;34m)\u001b[0m\u001b[0;34m\u001b[0m\u001b[0;34m\u001b[0m\u001b[0m\n\u001b[0;32m----> 5\u001b[0;31m         \u001b[0mtime\u001b[0m\u001b[0;34m.\u001b[0m\u001b[0msleep\u001b[0m\u001b[0;34m(\u001b[0m\u001b[0;36m2\u001b[0m\u001b[0;34m)\u001b[0m\u001b[0;34m\u001b[0m\u001b[0;34m\u001b[0m\u001b[0m\n\u001b[0m\u001b[1;32m      6\u001b[0m         \u001b[0mcurr_height\u001b[0m \u001b[0;34m=\u001b[0m \u001b[0mdriver\u001b[0m\u001b[0;34m.\u001b[0m\u001b[0mexecute_script\u001b[0m\u001b[0;34m(\u001b[0m\u001b[0;34m\"return document.body.scrollHeight\"\u001b[0m\u001b[0;34m)\u001b[0m\u001b[0;34m\u001b[0m\u001b[0;34m\u001b[0m\u001b[0m\n\u001b[1;32m      7\u001b[0m \u001b[0;34m\u001b[0m\u001b[0m\n",
      "\u001b[0;31mKeyboardInterrupt\u001b[0m: "
     ]
    }
   ],
   "source": [
    "scoll_bottom()"
   ]
  },
  {
   "cell_type": "code",
   "execution_count": 112,
   "id": "3e5e2239-377a-4cd0-badb-700e62e2f0ef",
   "metadata": {
    "collapsed": true,
    "jupyter": {
     "outputs_hidden": true
    },
    "tags": []
   },
   "outputs": [
    {
     "data": {
      "text/plain": [
       "[['민초',\n",
       "  '우리시대를 추억하는 시리즈.\\n좀 더 진중하고, 남편찾기 낚시질이 없었다면 수작이 될 수도 있었다고 본다.\\n새삼 축복받은 세대였음을 느끼게 되었다.'],\n",
       " ['three', '뒷심부족이 아쉬움..... 초반느낌 잘 이어갔으면 진짜 수작일텐데'],\n",
       " ['송부귀영화',\n",
       "  '응칠의 후속인데 응칠의 아류같은 느낌만..\\n고아라가 유연석에게 나의 20대를 아름답게 해줘서 고맙다고 하는건 너무 잔인한거 아닌가\\n병풍도 서러운데 확인사살까지...'],\n",
       " ['박병욱', '너무 많이 나정이 신랑 찾기 열풍뿐 후반엔 살짝 지루한느낌 그래도 응답하라 시리즈니 챙겨봤다'],\n",
       " ['21', '나도 쓰레기오빠랑 결혼하고싶다'],\n",
       " ['송경택', '그 시대를 살아보지 못한 이들도 응답하게 하는 매력.'],\n",
       " ['유희',\n",
       "  '40대에게 향수와 위로를 \\n30대에게 어린시절 느낌을\\n20대에게 현재의 감정을\\n10대에게 재미를 선물 해준\\n산타보다도 고마운드라마'],\n",
       " ['조아라', '내 사유재산이었던 유연석을 공공재로 만들다니.'],\n",
       " ['장민수', '16부작이였으면 완벽했겠지'],\n",
       " ['청춘예찬', '덕분에 행복했다 내군생활'],\n",
       " ['기록용',\n",
       "  '젊은 날엔 젊음을 모르고\\n사랑할 땐 사랑이 보이지 않았네\\n하지만 이제 뒤돌아 보니\\n우린 젊고 서로 사랑을 했구나\\n_이상은🎵언젠가는'],\n",
       " ['Jinny',\n",
       "  '응칠세대인데 응사에 더 환호했다. 뒷심부족이 아쉽긴 하지만 지나온 그 시간을 리얼하게 재연해서 다시 느낄 수 있어서 응답하라 시리즈는 최고에요:)'],\n",
       " ['동욱쓰', '사랑보다는 우정이 너무 아름다워 보였다'],\n",
       " ['hgee95',\n",
       "  '두고두고 보고 싶은 웰메이드 드라마.\\n그 시절을 살았던 사람이 아님에도\\n찡한 장면이 많았고, 위로받는 기분이였다.\\n90년대에 대학시절을 보냈던 분들의\\n낭만이 부럽습니다(:'],\n",
       " ['라디오천국', '추억 할 수 있게 해주는 건 창작물이 주는 최고의 선물이다.'],\n",
       " ['정영훈', '달디 달다.\\n \\n18.12.22~18.12.24'],\n",
       " ['블루베리 파이',\n",
       "  '뮤지컬 보러가는 장면, 병원에서 포옹대신 키스와 부산에서 프로포즈, 헤어지고 난 뒤 카페에서 둘의 대화 그리고 재회의 키스까지... 어떤 장면을 버릴 수 있을까?'],\n",
       " ['리타', '극 초중반까지는 응칠을 뛰어넘을 수도 있단 생각에 기대감 가득했다가.. 뒷심부족으로 실망만 가득.'],\n",
       " ['JK',\n",
       "  '후반부로 갈수록 지루해진건 사실이지만, 그래도 그 모든걸 커버해줄 수 있는 캐릭터들의 매력이 좋았고, 모든 세대가 보면서 공감할수 있는 연출력 또한 마음에 들었다.'],\n",
       " ['이호중', '대중들의 퇴행적 열망'],\n",
       " ['soooorim', '배우, 음악, 대사 등등 모든것이 완벽했던 내 인생드라마.']]"
      ]
     },
     "execution_count": 112,
     "metadata": {},
     "output_type": "execute_result"
    }
   ],
   "source": [
    "container = get_review_container(driver)"
   ]
  },
  {
   "cell_type": "code",
   "execution_count": 113,
   "id": "33242828-1e2d-4881-a83a-b5cd38bdb7a2",
   "metadata": {},
   "outputs": [],
   "source": [
    "df = pd.DataFrame(container, columns=['reviewer', 'review'])\n",
    "df.to_csv('test2.csv')"
   ]
  },
  {
   "cell_type": "code",
   "execution_count": 114,
   "id": "f313a286-bd21-40ca-a4b9-f34b704e7178",
   "metadata": {},
   "outputs": [],
   "source": [
    "driver.quit()"
   ]
  },
  {
   "cell_type": "code",
   "execution_count": null,
   "id": "f80279fe-6269-4eb0-8a86-31fae5cb08ab",
   "metadata": {},
   "outputs": [],
   "source": []
  },
  {
   "cell_type": "code",
   "execution_count": null,
   "id": "729bec19-7ef3-4903-9622-468aa739c194",
   "metadata": {},
   "outputs": [],
   "source": []
  },
  {
   "cell_type": "code",
   "execution_count": null,
   "id": "7b42e60f-e030-460e-ba05-dafbcbea062f",
   "metadata": {},
   "outputs": [],
   "source": []
  },
  {
   "cell_type": "code",
   "execution_count": null,
   "id": "3561f588-133b-45b5-bb62-d7deb3ff50b0",
   "metadata": {},
   "outputs": [],
   "source": []
  },
  {
   "cell_type": "code",
   "execution_count": 60,
   "id": "52bcc2c4-91a1-44d2-840d-c171a07a51bb",
   "metadata": {},
   "outputs": [],
   "source": [
    "soup = BeautifulSoup(driver.page_source, 'lxml')\n",
    "content_info = soup.find(class_='css-1jwavn9-RoundedCornerBlock-RoundedCornerBlock-RoundedCornerBlock-RoundedCornerBlock')\n",
    "content_collection = soup.find(class_='css-1tywu13')\n",
    "content_similar = soup.find(class_='css-rwltgb')"
   ]
  },
  {
   "cell_type": "code",
   "execution_count": 53,
   "id": "a7bc34bb-1166-4c1e-bf9b-7a29f877811b",
   "metadata": {},
   "outputs": [
    {
     "ename": "AttributeError",
     "evalue": "'NoneType' object has no attribute 'find'",
     "output_type": "error",
     "traceback": [
      "\u001b[0;31m---------------------------------------------------------------------------\u001b[0m",
      "\u001b[0;31mAttributeError\u001b[0m                            Traceback (most recent call last)",
      "\u001b[0;32m/var/folders/m6/rzs8832x1hz443w0gx4rx1gh0000gn/T/ipykernel_17352/4223306982.py\u001b[0m in \u001b[0;36m<module>\u001b[0;34m\u001b[0m\n\u001b[0;32m----> 1\u001b[0;31m \u001b[0mcontent_info\u001b[0m\u001b[0;34m.\u001b[0m\u001b[0mfind\u001b[0m\u001b[0;34m(\u001b[0m\u001b[0mclass_\u001b[0m\u001b[0;34m=\u001b[0m\u001b[0;34m'css-1t00yeb-OverviewMeta eokm2782'\u001b[0m\u001b[0;34m)\u001b[0m\u001b[0;34m.\u001b[0m\u001b[0mtext\u001b[0m\u001b[0;34m\u001b[0m\u001b[0;34m\u001b[0m\u001b[0m\n\u001b[0m",
      "\u001b[0;31mAttributeError\u001b[0m: 'NoneType' object has no attribute 'find'"
     ]
    }
   ],
   "source": [
    "content_info.find(class_='css-1t00yeb-OverviewMeta eokm2782').text"
   ]
  },
  {
   "cell_type": "code",
   "execution_count": null,
   "id": "483f4140-de23-4b73-a887-c8dac2fee751",
   "metadata": {},
   "outputs": [],
   "source": []
  }
 ],
 "metadata": {
  "kernelspec": {
   "display_name": "Python 3 (ipykernel)",
   "language": "python",
   "name": "python3"
  },
  "language_info": {
   "codemirror_mode": {
    "name": "ipython",
    "version": 3
   },
   "file_extension": ".py",
   "mimetype": "text/x-python",
   "name": "python",
   "nbconvert_exporter": "python",
   "pygments_lexer": "ipython3",
   "version": "3.9.7"
  }
 },
 "nbformat": 4,
 "nbformat_minor": 5
}
