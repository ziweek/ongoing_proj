{
 "cells": [
  {
   "cell_type": "code",
   "execution_count": 18,
   "id": "d4419c8a-5480-4af1-9e88-636d9077f65f",
   "metadata": {},
   "outputs": [],
   "source": [
    "from bs4 import BeautifulSoup\n",
    "from selenium import webdriver\n",
    "from selenium.webdriver.common.keys import Keys\n",
    "from selenium.webdriver.common.by import By\n",
    "from selenium.webdriver.common.action_chains import ActionChains\n",
    "import urllib.request as req\n",
    "import pandas as pd\n",
    "import time\n",
    "\n",
    "url = 'https://www.op.gg/'\n",
    "webdriver_dir = './chromedriver'\n",
    "driver = webdriver.Chrome(webdriver_dir)\n",
    "driver.get(url)"
   ]
  },
  {
   "cell_type": "code",
   "execution_count": 19,
   "id": "c17a92bf-f81a-41dd-9157-591b40ed78b8",
   "metadata": {},
   "outputs": [],
   "source": [
    "input_blank = driver.find_element(By.CSS_SELECTOR, '#searchSummoner')\n",
    "ActionChains(driver).move_to_element(input_blank).click().send_keys('가나다', Keys.ENTER).perform()"
   ]
  },
  {
   "cell_type": "code",
   "execution_count": 42,
   "id": "bced248f-685e-40b3-a468-dd52fcadcbc7",
   "metadata": {},
   "outputs": [],
   "source": [
    "soup = BeautifulSoup(driver.page_source, 'lxml')\n",
    "\n",
    "games =  soup.find_all(class_='css-1km8rh5 e1iiyghw2')\n",
    "last_game = games[0]\n",
    "\n",
    "\n",
    "game_result = last_game.find(class_='result').text\n",
    "game_players = [e.text for e in last_game.find_all(class_='name')]\n",
    "game_players_my = game_players[:5]\n",
    "game_players_op = game_players[5:]\n",
    "game_time = last_game.find(class_='time-stamp').text\n",
    "game_tag = last_game.find(class_='multi-kill').text"
   ]
  },
  {
   "cell_type": "code",
   "execution_count": 48,
   "id": "84792d6f-7496-43a5-a64b-0ba9cbc92f86",
   "metadata": {},
   "outputs": [
    {
     "name": "stdout",
     "output_type": "stream",
     "text": [
      "game_result : 승리\n",
      "game_players_my : ['청삼 봇', '가나다', '살려주는사람', '궁극의 노무현', '허니꿀꿀']\n",
      "game_players_op : ['감사행복평안이해', '계범승', '메타거부원딜', 'B0NOBON0', 'GiRiBOYgood']\n",
      "game_time : 3일 전\n",
      "game_tag : 트리플킬\n"
     ]
    }
   ],
   "source": [
    "print(f'game_result : {game_result}')\n",
    "print(f'game_players_my : {game_players_my}')\n",
    "print(f'game_players_op : {game_players_op}')\n",
    "print(f'game_time : {game_time}')\n",
    "print(f'game_tag : {game_tag}')\n"
   ]
  },
  {
   "cell_type": "code",
   "execution_count": 46,
   "id": "40550931-6314-4972-bb37-ba53e173823e",
   "metadata": {},
   "outputs": [
    {
     "data": {
      "text/html": [
       "<div>\n",
       "<style scoped>\n",
       "    .dataframe tbody tr th:only-of-type {\n",
       "        vertical-align: middle;\n",
       "    }\n",
       "\n",
       "    .dataframe tbody tr th {\n",
       "        vertical-align: top;\n",
       "    }\n",
       "\n",
       "    .dataframe thead th {\n",
       "        text-align: right;\n",
       "    }\n",
       "</style>\n",
       "<table border=\"1\" class=\"dataframe\">\n",
       "  <thead>\n",
       "    <tr style=\"text-align: right;\">\n",
       "      <th></th>\n",
       "      <th>game_players</th>\n",
       "      <th>game_result</th>\n",
       "      <th>game_time</th>\n",
       "      <th>game_players_my</th>\n",
       "      <th>game_players_op</th>\n",
       "    </tr>\n",
       "  </thead>\n",
       "  <tbody>\n",
       "  </tbody>\n",
       "</table>\n",
       "</div>"
      ],
      "text/plain": [
       "Empty DataFrame\n",
       "Columns: [game_players, game_result, game_time, game_players_my, game_players_op]\n",
       "Index: []"
      ]
     },
     "execution_count": 46,
     "metadata": {},
     "output_type": "execute_result"
    }
   ],
   "source": [
    "context = [game_players, game_result, game_time, game_players_my, game_players_op]\n",
    "columns = ['game_players', 'game_result', 'game_time', 'game_players_my', 'game_players_op']\n",
    "pd.DataFrame(context, columns=columns)"
   ]
  },
  {
   "cell_type": "code",
   "execution_count": 44,
   "id": "54201cfd-9084-4846-aeba-9376bb3a8b66",
   "metadata": {},
   "outputs": [
    {
     "data": {
      "text/plain": [
       "[('청삼 봇', '승', '3', '청삼 봇', '감사행복평안이해'), ('가나다', '리', '일', '가나다', '계범승')]"
      ]
     },
     "execution_count": 44,
     "metadata": {},
     "output_type": "execute_result"
    }
   ],
   "source": [
    "context"
   ]
  }
 ],
 "metadata": {
  "kernelspec": {
   "display_name": "Python 3 (ipykernel)",
   "language": "python",
   "name": "python3"
  },
  "language_info": {
   "codemirror_mode": {
    "name": "ipython",
    "version": 3
   },
   "file_extension": ".py",
   "mimetype": "text/x-python",
   "name": "python",
   "nbconvert_exporter": "python",
   "pygments_lexer": "ipython3",
   "version": "3.9.7"
  }
 },
 "nbformat": 4,
 "nbformat_minor": 5
}
